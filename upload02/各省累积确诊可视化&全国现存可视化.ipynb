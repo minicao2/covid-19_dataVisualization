{
 "cells": [
  {
   "cell_type": "code",
   "execution_count": 1,
   "metadata": {},
   "outputs": [],
   "source": [
    "import requests\n",
    "import json\n",
    "import re\n",
    "from pyecharts.charts import Map\n",
    "from pyecharts import options"
   ]
  },
  {
   "cell_type": "code",
   "execution_count": 2,
   "metadata": {},
   "outputs": [],
   "source": [
    "\n",
    "result = requests.get('https://interface.sina.cn/news/wap/fymap2020_data.d.json?1580097300739&&callback=sinajp_1580097300873005379567841634181')\n",
    "\n",
    "json_str = re.search(\"\\(+([^)]*)\\)+\", result.text).group(1)\n",
    "html = f\"{json_str}\"\n",
    "table = json.loads(f\"{html}\")"
   ]
  },
  {
   "cell_type": "markdown",
   "metadata": {},
   "source": [
    "# 各省份累积确诊人数（可能有数组超出bug，不过影响不大）"
   ]
  },
  {
   "cell_type": "code",
   "execution_count": 4,
   "metadata": {},
   "outputs": [
    {
     "name": "stderr",
     "output_type": "stream",
     "text": [
      "C:\\Users\\Administrator\\anaconda3\\lib\\site-packages\\pyecharts\\charts\\chart.py:14: PendingDeprecationWarning: pyecharts 所有图表类型将在 v1.9.0 版本开始强制使用 ChartItem 进行数据项配置 :)\n",
      "  super().__init__(init_opts=init_opts)\n",
      "C:\\Users\\Administrator\\anaconda3\\lib\\site-packages\\pyecharts\\charts\\chart.py:14: PendingDeprecationWarning: pyecharts 所有图表类型将在 v1.9.0 版本开始强制使用 ChartItem 进行数据项配置 :)\n",
      "  super().__init__(init_opts=init_opts)\n",
      "C:\\Users\\Administrator\\anaconda3\\lib\\site-packages\\pyecharts\\charts\\chart.py:14: PendingDeprecationWarning: pyecharts 所有图表类型将在 v1.9.0 版本开始强制使用 ChartItem 进行数据项配置 :)\n",
      "  super().__init__(init_opts=init_opts)\n",
      "C:\\Users\\Administrator\\anaconda3\\lib\\site-packages\\pyecharts\\charts\\chart.py:14: PendingDeprecationWarning: pyecharts 所有图表类型将在 v1.9.0 版本开始强制使用 ChartItem 进行数据项配置 :)\n",
      "  super().__init__(init_opts=init_opts)\n",
      "C:\\Users\\Administrator\\anaconda3\\lib\\site-packages\\pyecharts\\charts\\chart.py:14: PendingDeprecationWarning: pyecharts 所有图表类型将在 v1.9.0 版本开始强制使用 ChartItem 进行数据项配置 :)\n",
      "  super().__init__(init_opts=init_opts)\n",
      "C:\\Users\\Administrator\\anaconda3\\lib\\site-packages\\pyecharts\\charts\\chart.py:14: PendingDeprecationWarning: pyecharts 所有图表类型将在 v1.9.0 版本开始强制使用 ChartItem 进行数据项配置 :)\n",
      "  super().__init__(init_opts=init_opts)\n",
      "C:\\Users\\Administrator\\anaconda3\\lib\\site-packages\\pyecharts\\charts\\chart.py:14: PendingDeprecationWarning: pyecharts 所有图表类型将在 v1.9.0 版本开始强制使用 ChartItem 进行数据项配置 :)\n",
      "  super().__init__(init_opts=init_opts)\n",
      "C:\\Users\\Administrator\\anaconda3\\lib\\site-packages\\pyecharts\\charts\\chart.py:14: PendingDeprecationWarning: pyecharts 所有图表类型将在 v1.9.0 版本开始强制使用 ChartItem 进行数据项配置 :)\n",
      "  super().__init__(init_opts=init_opts)\n",
      "C:\\Users\\Administrator\\anaconda3\\lib\\site-packages\\pyecharts\\charts\\chart.py:14: PendingDeprecationWarning: pyecharts 所有图表类型将在 v1.9.0 版本开始强制使用 ChartItem 进行数据项配置 :)\n",
      "  super().__init__(init_opts=init_opts)\n",
      "C:\\Users\\Administrator\\anaconda3\\lib\\site-packages\\pyecharts\\charts\\chart.py:14: PendingDeprecationWarning: pyecharts 所有图表类型将在 v1.9.0 版本开始强制使用 ChartItem 进行数据项配置 :)\n",
      "  super().__init__(init_opts=init_opts)\n",
      "C:\\Users\\Administrator\\anaconda3\\lib\\site-packages\\pyecharts\\charts\\chart.py:14: PendingDeprecationWarning: pyecharts 所有图表类型将在 v1.9.0 版本开始强制使用 ChartItem 进行数据项配置 :)\n",
      "  super().__init__(init_opts=init_opts)\n",
      "C:\\Users\\Administrator\\anaconda3\\lib\\site-packages\\pyecharts\\charts\\chart.py:14: PendingDeprecationWarning: pyecharts 所有图表类型将在 v1.9.0 版本开始强制使用 ChartItem 进行数据项配置 :)\n",
      "  super().__init__(init_opts=init_opts)\n",
      "C:\\Users\\Administrator\\anaconda3\\lib\\site-packages\\pyecharts\\charts\\chart.py:14: PendingDeprecationWarning: pyecharts 所有图表类型将在 v1.9.0 版本开始强制使用 ChartItem 进行数据项配置 :)\n",
      "  super().__init__(init_opts=init_opts)\n",
      "C:\\Users\\Administrator\\anaconda3\\lib\\site-packages\\pyecharts\\charts\\chart.py:14: PendingDeprecationWarning: pyecharts 所有图表类型将在 v1.9.0 版本开始强制使用 ChartItem 进行数据项配置 :)\n",
      "  super().__init__(init_opts=init_opts)\n",
      "C:\\Users\\Administrator\\anaconda3\\lib\\site-packages\\pyecharts\\charts\\chart.py:14: PendingDeprecationWarning: pyecharts 所有图表类型将在 v1.9.0 版本开始强制使用 ChartItem 进行数据项配置 :)\n",
      "  super().__init__(init_opts=init_opts)\n",
      "C:\\Users\\Administrator\\anaconda3\\lib\\site-packages\\pyecharts\\charts\\chart.py:14: PendingDeprecationWarning: pyecharts 所有图表类型将在 v1.9.0 版本开始强制使用 ChartItem 进行数据项配置 :)\n",
      "  super().__init__(init_opts=init_opts)\n",
      "C:\\Users\\Administrator\\anaconda3\\lib\\site-packages\\pyecharts\\charts\\chart.py:14: PendingDeprecationWarning: pyecharts 所有图表类型将在 v1.9.0 版本开始强制使用 ChartItem 进行数据项配置 :)\n",
      "  super().__init__(init_opts=init_opts)\n",
      "C:\\Users\\Administrator\\anaconda3\\lib\\site-packages\\pyecharts\\charts\\chart.py:14: PendingDeprecationWarning: pyecharts 所有图表类型将在 v1.9.0 版本开始强制使用 ChartItem 进行数据项配置 :)\n",
      "  super().__init__(init_opts=init_opts)\n",
      "C:\\Users\\Administrator\\anaconda3\\lib\\site-packages\\pyecharts\\charts\\chart.py:14: PendingDeprecationWarning: pyecharts 所有图表类型将在 v1.9.0 版本开始强制使用 ChartItem 进行数据项配置 :)\n",
      "  super().__init__(init_opts=init_opts)\n",
      "C:\\Users\\Administrator\\anaconda3\\lib\\site-packages\\pyecharts\\charts\\chart.py:14: PendingDeprecationWarning: pyecharts 所有图表类型将在 v1.9.0 版本开始强制使用 ChartItem 进行数据项配置 :)\n",
      "  super().__init__(init_opts=init_opts)\n",
      "C:\\Users\\Administrator\\anaconda3\\lib\\site-packages\\pyecharts\\charts\\chart.py:14: PendingDeprecationWarning: pyecharts 所有图表类型将在 v1.9.0 版本开始强制使用 ChartItem 进行数据项配置 :)\n",
      "  super().__init__(init_opts=init_opts)\n",
      "C:\\Users\\Administrator\\anaconda3\\lib\\site-packages\\pyecharts\\charts\\chart.py:14: PendingDeprecationWarning: pyecharts 所有图表类型将在 v1.9.0 版本开始强制使用 ChartItem 进行数据项配置 :)\n",
      "  super().__init__(init_opts=init_opts)\n",
      "C:\\Users\\Administrator\\anaconda3\\lib\\site-packages\\pyecharts\\charts\\chart.py:14: PendingDeprecationWarning: pyecharts 所有图表类型将在 v1.9.0 版本开始强制使用 ChartItem 进行数据项配置 :)\n",
      "  super().__init__(init_opts=init_opts)\n",
      "C:\\Users\\Administrator\\anaconda3\\lib\\site-packages\\pyecharts\\charts\\chart.py:14: PendingDeprecationWarning: pyecharts 所有图表类型将在 v1.9.0 版本开始强制使用 ChartItem 进行数据项配置 :)\n",
      "  super().__init__(init_opts=init_opts)\n",
      "C:\\Users\\Administrator\\anaconda3\\lib\\site-packages\\pyecharts\\charts\\chart.py:14: PendingDeprecationWarning: pyecharts 所有图表类型将在 v1.9.0 版本开始强制使用 ChartItem 进行数据项配置 :)\n",
      "  super().__init__(init_opts=init_opts)\n",
      "C:\\Users\\Administrator\\anaconda3\\lib\\site-packages\\pyecharts\\charts\\chart.py:14: PendingDeprecationWarning: pyecharts 所有图表类型将在 v1.9.0 版本开始强制使用 ChartItem 进行数据项配置 :)\n",
      "  super().__init__(init_opts=init_opts)\n",
      "C:\\Users\\Administrator\\anaconda3\\lib\\site-packages\\pyecharts\\charts\\chart.py:14: PendingDeprecationWarning: pyecharts 所有图表类型将在 v1.9.0 版本开始强制使用 ChartItem 进行数据项配置 :)\n",
      "  super().__init__(init_opts=init_opts)\n"
     ]
    },
    {
     "ename": "IndexError",
     "evalue": "list index out of range",
     "output_type": "error",
     "traceback": [
      "\u001b[1;31m---------------------------------------------------------------------------\u001b[0m",
      "\u001b[1;31mIndexError\u001b[0m                                Traceback (most recent call last)",
      "\u001b[1;32m<ipython-input-4-1139c83e01a4>\u001b[0m in \u001b[0;36m<module>\u001b[1;34m\u001b[0m\n\u001b[0;32m     24\u001b[0m                     {\"min\": 1, \"max\": 9, \"label\": '1-9人', \"color\": \"#FDEBD0\"}]))\n\u001b[0;32m     25\u001b[0m     \u001b[1;31m#将数据添加进去，生成省份地图，所以maptype要对应省份。\u001b[0m\u001b[1;33m\u001b[0m\u001b[1;33m\u001b[0m\u001b[1;33m\u001b[0m\u001b[0m\n\u001b[1;32m---> 26\u001b[1;33m     \u001b[0mmap_province\u001b[0m\u001b[1;33m.\u001b[0m\u001b[0madd\u001b[0m\u001b[1;33m(\u001b[0m\u001b[1;34m\"确诊\"\u001b[0m\u001b[1;33m,\u001b[0m \u001b[0mcity_data\u001b[0m\u001b[1;33m,\u001b[0m \u001b[0mmaptype\u001b[0m \u001b[1;33m=\u001b[0m \u001b[0mprovince\u001b[0m\u001b[1;33m[\u001b[0m\u001b[1;34m'name'\u001b[0m\u001b[1;33m]\u001b[0m\u001b[1;33m)\u001b[0m\u001b[1;33m\u001b[0m\u001b[1;33m\u001b[0m\u001b[0m\n\u001b[0m\u001b[0;32m     27\u001b[0m     \u001b[1;31m#一切完成，那么生成一个省份的html网页文件，取上对应省份的名字。\u001b[0m\u001b[1;33m\u001b[0m\u001b[1;33m\u001b[0m\u001b[1;33m\u001b[0m\u001b[0m\n\u001b[0;32m     28\u001b[0m     \u001b[0mmap_province\u001b[0m\u001b[1;33m.\u001b[0m\u001b[0mrender\u001b[0m\u001b[1;33m(\u001b[0m\u001b[0mprovince\u001b[0m\u001b[1;33m[\u001b[0m\u001b[1;34m'name'\u001b[0m\u001b[1;33m]\u001b[0m \u001b[1;33m+\u001b[0m \u001b[1;34m\"疫情地图.html\"\u001b[0m\u001b[1;33m)\u001b[0m\u001b[1;33m\u001b[0m\u001b[1;33m\u001b[0m\u001b[0m\n",
      "\u001b[1;32m~\\anaconda3\\lib\\site-packages\\pyecharts\\charts\\basic_charts\\map.py\u001b[0m in \u001b[0;36madd\u001b[1;34m(self, series_name, data_pair, maptype, is_selected, is_roam, center, zoom, name_map, symbol, is_map_symbol_show, label_opts, tooltip_opts, itemstyle_opts, emphasis_label_opts, emphasis_itemstyle_opts)\u001b[0m\n\u001b[0;32m     33\u001b[0m         \u001b[0mself\u001b[0m\u001b[1;33m.\u001b[0m\u001b[0mjs_dependencies\u001b[0m\u001b[1;33m.\u001b[0m\u001b[0madd\u001b[0m\u001b[1;33m(\u001b[0m\u001b[0mmaptype\u001b[0m\u001b[1;33m)\u001b[0m\u001b[1;33m\u001b[0m\u001b[1;33m\u001b[0m\u001b[0m\n\u001b[0;32m     34\u001b[0m \u001b[1;33m\u001b[0m\u001b[0m\n\u001b[1;32m---> 35\u001b[1;33m         \u001b[1;32mif\u001b[0m \u001b[0misinstance\u001b[0m\u001b[1;33m(\u001b[0m\u001b[0mdata_pair\u001b[0m\u001b[1;33m[\u001b[0m\u001b[1;36m0\u001b[0m\u001b[1;33m]\u001b[0m\u001b[1;33m,\u001b[0m \u001b[0mopts\u001b[0m\u001b[1;33m.\u001b[0m\u001b[0mMapItem\u001b[0m\u001b[1;33m)\u001b[0m\u001b[1;33m:\u001b[0m\u001b[1;33m\u001b[0m\u001b[1;33m\u001b[0m\u001b[0m\n\u001b[0m\u001b[0;32m     36\u001b[0m             \u001b[0mdata\u001b[0m \u001b[1;33m=\u001b[0m \u001b[0mdata_pair\u001b[0m\u001b[1;33m\u001b[0m\u001b[1;33m\u001b[0m\u001b[0m\n\u001b[0;32m     37\u001b[0m         \u001b[1;32melse\u001b[0m\u001b[1;33m:\u001b[0m\u001b[1;33m\u001b[0m\u001b[1;33m\u001b[0m\u001b[0m\n",
      "\u001b[1;31mIndexError\u001b[0m: list index out of range"
     ]
    }
   ],
   "source": [
    "province_data = []\n",
    "for province in table['data']['list']:\n",
    "    province_data.append((province['name'], province['value']))\n",
    "    city_data = []\n",
    "    for city in province['city']:\n",
    "        city_data.append((city['mapName'], city['conNum']))\n",
    "    map_province = Map()\n",
    "    map_province.set_global_opts(title_opts=options.TitleOpts(title=province['name'] + \"实时疫情图-确诊人数：\" + province['value']),\n",
    "                                 visualmap_opts=options.VisualMapOpts(is_piecewise=True,\n",
    "#自定义数据范围和对应的颜色\n",
    "                pieces=[\n",
    "                    {\"min\": 1000, \"label\": '>1000人', \"color\": \"#6F171F\"}, \n",
    "                    {\"min\": 500, \"max\": 1000, \"label\": '500-1000人', \"color\": \"#C92C34\"},\n",
    "                    {\"min\": 100, \"max\": 499, \"label\": '100-499人', \"color\": \"#E35B52\"},\n",
    "                    {\"min\": 10, \"max\": 99, \"label\": '10-99人', \"color\": \"#F39E86\"},\n",
    "                    {\"min\": 1, \"max\": 9, \"label\": '1-9人', \"color\": \"#FDEBD0\"}]))\n",
    "    map_province.add(\"确诊\", city_data, maptype = province['name'])\n",
    "\n",
    "    map_province.render(province['name'] + \"疫情地图.html\")  "
   ]
  },
  {
   "cell_type": "code",
   "execution_count": null,
   "metadata": {},
   "outputs": [],
   "source": []
  },
  {
   "cell_type": "markdown",
   "metadata": {},
   "source": [
    "# 全国现存确诊人数获取"
   ]
  },
  {
   "cell_type": "code",
   "execution_count": 19,
   "metadata": {},
   "outputs": [],
   "source": [
    "from pyecharts import options as opts\n",
    "from pyecharts.charts import Map\n",
    "import  requests\n",
    "from  pyquery import PyQuery as pq\n",
    "import json\n",
    "import time"
   ]
  },
  {
   "cell_type": "code",
   "execution_count": 21,
   "metadata": {},
   "outputs": [],
   "source": [
    "def map_visualmap() -> Map:\n",
    "    c = (\n",
    "        Map(init_opts=opts.InitOpts(page_title=\"中国疫情地图\"))\n",
    "        .add(\"现存确诊人数\",data_pair=current_data_dic.items(),maptype=\"china\")\n",
    "        .set_global_opts(\n",
    "            title_opts=opts.TitleOpts(title=\"中国疫情地图\",subtitle=\"数据更新于\"+time_format),\n",
    "            visualmap_opts=opts.VisualMapOpts(pieces=[\n",
    "                {\"value\":0,\"label\":\"无\",\"color\":\"#9AFF9A\"},\n",
    "                {\"min\": 1, \"max\": 9, \"label\": \"1~9\",\"color\":\"#FFCCCC\"},\n",
    "                {\"min\": 10, \"max\": 99, \"label\": \"10~99\",\"color\":\"#DB5A6B\"},\n",
    "                {\"min\": 100, \"max\": 499, \"label\": \"100~499\",\"color\":\"#FF6666\"},\n",
    "                {\"min\": 500, \"max\": 999, \"label\": \"500~999\",\"color\":\"#CC2929\"},\n",
    "                {\"min\": 1000, \"max\": 9999, \"label\": \"1000~9999\",\"color\":\"#8C0D0D\"},\n",
    "                {\"min\": 10000, \"label\": \">10000\",\"color\":\"#9d2933\"}\n",
    " \n",
    "            ], is_piecewise=True),\n",
    "        )\n",
    "    )\n",
    "    return c"
   ]
  },
  {
   "cell_type": "code",
   "execution_count": 22,
   "metadata": {},
   "outputs": [
    {
     "name": "stdout",
     "output_type": "stream",
     "text": [
      "数据抓取成功...\n",
      "{'北京': 323, '香港': 115, '上海': 27, '四川': 11, '甘肃': 8, '河北': 7, '陕西': 7, '广东': 6, '辽宁': 5, '台湾': 4, '重庆': 2, '福建': 2, '浙江': 1, '江苏': 1, '天津': 1, '云南': 1, '澳门': 1, '湖北': 0, '河南': 0, '湖南': 0, '安徽': 0, '黑龙江': 0, '江西': 0, '山东': 0, '广西': 0, '内蒙古': 0, '山西': 0, '海南': 0, '吉林': 0, '贵州': 0, '新疆': 0, '宁夏': 0, '青海': 0, '西藏': 0}\n"
     ]
    }
   ],
   "source": [
    "if __name__ == '__main__':\n",
    "    url = \"https://ncov.dxy.cn/ncovh5/view/pneumonia\"\n",
    "    response = requests.get(url)\n",
    "    if response.status_code == 200:\n",
    "        response.encoding = \"utf-8\"\n",
    "        dom = pq(response.content)\n",
    "        data = dom(\"script#getAreaStat\").text().split(\" = \")[1].split(\"}catch\")[0]\n",
    "        jsonobj = json.loads(data)  # json对象\n",
    "        print(\"数据抓取成功...\")\n",
    "    current_data_dic = {}\n",
    "    time_format = time.strftime(\"%Y-%m-%d %H:%M:%S\", time.localtime())\n",
    "    for item in jsonobj:\n",
    "        current_data_dic[item[\"provinceShortName\"]] = item[\"currentConfirmedCount\"]\n",
    "    print(current_data_dic)"
   ]
  },
  {
   "cell_type": "code",
   "execution_count": null,
   "metadata": {},
   "outputs": [],
   "source": []
  },
  {
   "cell_type": "markdown",
   "metadata": {},
   "source": [
    "# 全国确诊人数画图"
   ]
  },
  {
   "cell_type": "code",
   "execution_count": null,
   "metadata": {},
   "outputs": [],
   "source": [
    "from pyecharts.charts import Map\n",
    "from pyecharts import options as opts"
   ]
  },
  {
   "cell_type": "code",
   "execution_count": 25,
   "metadata": {},
   "outputs": [
    {
     "name": "stderr",
     "output_type": "stream",
     "text": [
      "C:\\Users\\Administrator\\anaconda3\\lib\\site-packages\\pyecharts\\charts\\chart.py:14: PendingDeprecationWarning: pyecharts 所有图表类型将在 v1.9.0 版本开始强制使用 ChartItem 进行数据项配置 :)\n",
      "  super().__init__(init_opts=init_opts)\n"
     ]
    },
    {
     "data": {
      "text/plain": [
       "'C:\\\\Users\\\\Administrator\\\\map全国.html'"
      ]
     },
     "execution_count": 25,
     "metadata": {},
     "output_type": "execute_result"
    }
   ],
   "source": [
    "province_dict = {'北京': 323, '香港': 115, '上海': 27, '四川': 11, '甘肃': 8, '河北': 7, '陕西': 7, '广东': 6, '辽宁': 5, '台湾': 4, '重庆': 2, '福建': 2, '浙江': 1, '江苏': 1, '天津': 1, '云南': 1, '澳门': 1, '湖北': 0, '河南': 0, '湖南': 0, '安徽': 0, '黑龙江': 0, '江西': 0, '山东': 0, '广西': 0, '内蒙古': 0, '山西': 0, '海南': 0, '吉林': 0, '贵州': 0, '新疆': 0, '宁夏': 0, '青海': 0, '西藏': 0}\n",
    "province_list = list(province_dict.keys())\n",
    "province_value = list(province_dict.values())\n",
    "province_info = [[province_list[i], province_value[i]] for i in range(len(province_list))]\n",
    "china_map = Map()\n",
    "china_map.set_global_opts(title_opts=opts.TitleOpts(title=\"2020年7月4日全国疫情数据统计\"),visualmap_opts=opts.VisualMapOpts(max_=200))\n",
    "china_map.add(\"2020年7月4日全国疫情数据统计\", province_info, maptype=\"china\")\n",
    "china_map.render('map全国.html')"
   ]
  },
  {
   "cell_type": "code",
   "execution_count": null,
   "metadata": {},
   "outputs": [],
   "source": []
  },
  {
   "cell_type": "markdown",
   "metadata": {},
   "source": [
    "# 总体趋势图"
   ]
  },
  {
   "cell_type": "code",
   "execution_count": 26,
   "metadata": {},
   "outputs": [],
   "source": [
    "# 导入需要的库\n",
    "import time\n",
    "import json\n",
    "import requests\n",
    "from datetime import datetime\n",
    "import numpy as np\n",
    "import matplotlib\n",
    "import matplotlib.figure\n",
    "from matplotlib.font_manager import FontProperties\n",
    "from matplotlib.backends.backend_agg import FigureCanvasAgg\n",
    "from matplotlib.patches import Polygon\n",
    "from matplotlib.collections import PatchCollection\n",
    "import matplotlib.pyplot as plt\n",
    "import matplotlib.dates as mdates"
   ]
  },
  {
   "cell_type": "code",
   "execution_count": 29,
   "metadata": {},
   "outputs": [
    {
     "ename": "SyntaxError",
     "evalue": "invalid syntax (<ipython-input-29-71615598cd70>, line 25)",
     "output_type": "error",
     "traceback": [
      "\u001b[1;36m  File \u001b[1;32m\"<ipython-input-29-71615598cd70>\"\u001b[1;36m, line \u001b[1;32m25\u001b[0m\n\u001b[1;33m    return date_list, confirm_list, suspect_list, dead_list, heal_listdef plot_curve_graph():\u001b[0m\n\u001b[1;37m                                                                                         ^\u001b[0m\n\u001b[1;31mSyntaxError\u001b[0m\u001b[1;31m:\u001b[0m invalid syntax\n"
     ]
    }
   ],
   "source": [
    "plt.rcParams['font.sans-serif'] = ['FangSong']  # 设置默认字体\n",
    "plt.rcParams['axes.unicode_minus'] = False  # 解决保存图像时乱码问题\n",
    "\n",
    "def get_everyday_data(everyday_data_url):\n",
    "    '''\n",
    "    获取每天的数据\n",
    "    :param everyday_data_url: 存放每天数据的路径\n",
    "    :return: 返回每天的数据列表，分确诊、疑似、死亡和治愈\n",
    "    '''\n",
    "    data = json.loads(requests.get(url=everyday_data_url).json()['data'])  # 获取数据\n",
    "    data.sort(key=lambda x: x['date'])  # 将数据按照时间升序排序\n",
    "\n",
    "    # 定义相关数据列表：日期列表、确诊列表、疑似列表、死亡列表、治愈列表\n",
    "    date_list, confirm_list, suspect_list, dead_list, heal_list = list(), list(), list(), list(), list()\n",
    "\n",
    "    # 迭代数据，得到需要的数据\n",
    "    for item in data:\n",
    "        month, day = item['date'].split('/')\n",
    "        date_list.append(datetime.strptime('2020-%s-%s' % (month, day), '%Y-%m-%d'))  # 格式化日期\n",
    "        confirm_list.append(int(item['confirm']))\n",
    "        suspect_list.append(int(item['suspect']))\n",
    "        dead_list.append(int(item['dead']))\n",
    "        heal_list.append(int(item['heal']))\n",
    "\n",
    "    return date_list, confirm_list, suspect_list, dead_list, heal_listdef plot_curve_graph():\n",
    "\n",
    "\n",
    "    # 设置标题等相关参数\n",
    "    plt.figure('2019-nCoV疫情统计图表', facecolor='#f4f4f4', figsize=(10, 8))\n",
    "    plt.title('2019-nCoV疫情曲线', fontsize=20)\n",
    "\n",
    "    # 画图\n",
    "    plt.plot(date_list, confirm_list, label='确诊')\n",
    "    plt.plot(date_list, suspect_list, label='疑似')\n",
    "    plt.plot(date_list, heal_list, label='治愈')\n",
    "    plt.plot(date_list, dead_list, label='死亡')\n",
    "\n",
    "    plt.gca().xaxis.set_major_formatter(mdates.DateFormatter('%m-%d'))  # 格式化时间\n",
    "    plt.gcf().autofmt_xdate()  # 优化标注，添加自动倾斜功能\n",
    "    plt.grid(linestyle=':')  # 显示网格\n",
    "    plt.legend()  # 显示图例\n",
    "    plt.savefig('2019-nCoV疫情曲线.png')  # 保存为文件"
   ]
  },
  {
   "cell_type": "code",
   "execution_count": 30,
   "metadata": {},
   "outputs": [],
   "source": [
    "if __name__ == '__main__':\n",
    "\n",
    "    ts = int(time.time() * 1000)  # 时间戳\n",
    "    # 存放每天数据的路径\n",
    "    everyday_data_url = 'https://view.inews.qq.com/g2/getOnsInfo?name=wuwei_ww_cn_day_counts&callback=&_=%d' % ts"
   ]
  },
  {
   "cell_type": "code",
   "execution_count": null,
   "metadata": {},
   "outputs": [],
   "source": []
  }
 ],
 "metadata": {
  "kernelspec": {
   "display_name": "Python 3",
   "language": "python",
   "name": "python3"
  },
  "language_info": {
   "codemirror_mode": {
    "name": "ipython",
    "version": 3
   },
   "file_extension": ".py",
   "mimetype": "text/x-python",
   "name": "python",
   "nbconvert_exporter": "python",
   "pygments_lexer": "ipython3",
   "version": "3.7.6"
  }
 },
 "nbformat": 4,
 "nbformat_minor": 4
}
